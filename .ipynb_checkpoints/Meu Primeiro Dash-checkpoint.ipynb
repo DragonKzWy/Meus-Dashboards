{
 "cells": [
  {
   "cell_type": "code",
   "execution_count": 2,
   "id": "567f9a7e",
   "metadata": {},
   "outputs": [
    {
     "name": "stdout",
     "output_type": "stream",
     "text": [
      "Requirement already satisfied: dash in c:\\users\\wellw\\anaconda3\\lib\\site-packages (2.9.2)\n",
      "Requirement already satisfied: dash-core-components==2.0.0 in c:\\users\\wellw\\anaconda3\\lib\\site-packages (from dash) (2.0.0)\n",
      "Requirement already satisfied: dash-table==5.0.0 in c:\\users\\wellw\\anaconda3\\lib\\site-packages (from dash) (5.0.0)\n",
      "Requirement already satisfied: plotly>=5.0.0 in c:\\users\\wellw\\anaconda3\\lib\\site-packages (from dash) (5.9.0)\n",
      "Requirement already satisfied: Flask>=1.0.4 in c:\\users\\wellw\\anaconda3\\lib\\site-packages (from dash) (1.1.2)\n",
      "Requirement already satisfied: dash-html-components==2.0.0 in c:\\users\\wellw\\anaconda3\\lib\\site-packages (from dash) (2.0.0)\n",
      "Requirement already satisfied: click>=5.1 in c:\\users\\wellw\\anaconda3\\lib\\site-packages (from Flask>=1.0.4->dash) (8.0.4)\n",
      "Requirement already satisfied: Jinja2>=2.10.1 in c:\\users\\wellw\\anaconda3\\lib\\site-packages (from Flask>=1.0.4->dash) (2.11.3)\n",
      "Requirement already satisfied: itsdangerous>=0.24 in c:\\users\\wellw\\anaconda3\\lib\\site-packages (from Flask>=1.0.4->dash) (2.0.1)\n",
      "Requirement already satisfied: Werkzeug>=0.15 in c:\\users\\wellw\\anaconda3\\lib\\site-packages (from Flask>=1.0.4->dash) (2.0.3)\n",
      "Requirement already satisfied: tenacity>=6.2.0 in c:\\users\\wellw\\anaconda3\\lib\\site-packages (from plotly>=5.0.0->dash) (8.0.1)\n",
      "Requirement already satisfied: colorama in c:\\users\\wellw\\anaconda3\\lib\\site-packages (from click>=5.1->Flask>=1.0.4->dash) (0.4.5)\n",
      "Requirement already satisfied: MarkupSafe>=0.23 in c:\\users\\wellw\\anaconda3\\lib\\site-packages (from Jinja2>=2.10.1->Flask>=1.0.4->dash) (2.0.1)\n",
      "Note: you may need to restart the kernel to use updated packages.\n"
     ]
    }
   ],
   "source": [
    "pip install dash"
   ]
  },
  {
   "cell_type": "code",
   "execution_count": 3,
   "id": "50d4a578",
   "metadata": {},
   "outputs": [
    {
     "name": "stdout",
     "output_type": "stream",
     "text": [
      "Requirement already satisfied: jupyter-dash in c:\\users\\wellw\\anaconda3\\lib\\site-packages (0.4.2)\n",
      "Requirement already satisfied: retrying in c:\\users\\wellw\\anaconda3\\lib\\site-packages (from jupyter-dash) (1.3.4)\n",
      "Requirement already satisfied: ipykernel in c:\\users\\wellw\\anaconda3\\lib\\site-packages (from jupyter-dash) (6.15.2)\n",
      "Requirement already satisfied: flask in c:\\users\\wellw\\anaconda3\\lib\\site-packages (from jupyter-dash) (1.1.2)\n",
      "Requirement already satisfied: dash in c:\\users\\wellw\\anaconda3\\lib\\site-packages (from jupyter-dash) (2.9.2)\n",
      "Requirement already satisfied: nest-asyncio in c:\\users\\wellw\\anaconda3\\lib\\site-packages (from jupyter-dash) (1.5.5)\n",
      "Requirement already satisfied: ipython in c:\\users\\wellw\\anaconda3\\lib\\site-packages (from jupyter-dash) (7.31.1)\n",
      "Requirement already satisfied: requests in c:\\users\\wellw\\anaconda3\\lib\\site-packages (from jupyter-dash) (2.28.1)\n",
      "Requirement already satisfied: ansi2html in c:\\users\\wellw\\anaconda3\\lib\\site-packages (from jupyter-dash) (1.8.0)\n",
      "Requirement already satisfied: dash-core-components==2.0.0 in c:\\users\\wellw\\anaconda3\\lib\\site-packages (from dash->jupyter-dash) (2.0.0)\n",
      "Requirement already satisfied: dash-table==5.0.0 in c:\\users\\wellw\\anaconda3\\lib\\site-packages (from dash->jupyter-dash) (5.0.0)\n",
      "Requirement already satisfied: plotly>=5.0.0 in c:\\users\\wellw\\anaconda3\\lib\\site-packages (from dash->jupyter-dash) (5.9.0)\n",
      "Requirement already satisfied: dash-html-components==2.0.0 in c:\\users\\wellw\\anaconda3\\lib\\site-packages (from dash->jupyter-dash) (2.0.0)\n",
      "Requirement already satisfied: Werkzeug>=0.15 in c:\\users\\wellw\\anaconda3\\lib\\site-packages (from flask->jupyter-dash) (2.0.3)\n",
      "Requirement already satisfied: click>=5.1 in c:\\users\\wellw\\anaconda3\\lib\\site-packages (from flask->jupyter-dash) (8.0.4)\n",
      "Requirement already satisfied: Jinja2>=2.10.1 in c:\\users\\wellw\\anaconda3\\lib\\site-packages (from flask->jupyter-dash) (2.11.3)\n",
      "Requirement already satisfied: itsdangerous>=0.24 in c:\\users\\wellw\\anaconda3\\lib\\site-packages (from flask->jupyter-dash) (2.0.1)\n",
      "Requirement already satisfied: debugpy>=1.0 in c:\\users\\wellw\\anaconda3\\lib\\site-packages (from ipykernel->jupyter-dash) (1.5.1)\n",
      "Requirement already satisfied: packaging in c:\\users\\wellw\\anaconda3\\lib\\site-packages (from ipykernel->jupyter-dash) (21.3)\n",
      "Requirement already satisfied: traitlets>=5.1.0 in c:\\users\\wellw\\anaconda3\\lib\\site-packages (from ipykernel->jupyter-dash) (5.1.1)\n",
      "Requirement already satisfied: jupyter-client>=6.1.12 in c:\\users\\wellw\\anaconda3\\lib\\site-packages (from ipykernel->jupyter-dash) (7.3.4)\n",
      "Requirement already satisfied: pyzmq>=17 in c:\\users\\wellw\\anaconda3\\lib\\site-packages (from ipykernel->jupyter-dash) (23.2.0)\n",
      "Requirement already satisfied: matplotlib-inline>=0.1 in c:\\users\\wellw\\anaconda3\\lib\\site-packages (from ipykernel->jupyter-dash) (0.1.6)\n",
      "Requirement already satisfied: tornado>=6.1 in c:\\users\\wellw\\anaconda3\\lib\\site-packages (from ipykernel->jupyter-dash) (6.1)\n",
      "Requirement already satisfied: psutil in c:\\users\\wellw\\anaconda3\\lib\\site-packages (from ipykernel->jupyter-dash) (5.9.0)\n",
      "Requirement already satisfied: pickleshare in c:\\users\\wellw\\anaconda3\\lib\\site-packages (from ipython->jupyter-dash) (0.7.5)\n",
      "Requirement already satisfied: backcall in c:\\users\\wellw\\anaconda3\\lib\\site-packages (from ipython->jupyter-dash) (0.2.0)\n",
      "Requirement already satisfied: jedi>=0.16 in c:\\users\\wellw\\anaconda3\\lib\\site-packages (from ipython->jupyter-dash) (0.18.1)\n",
      "Requirement already satisfied: prompt-toolkit!=3.0.0,!=3.0.1,<3.1.0,>=2.0.0 in c:\\users\\wellw\\anaconda3\\lib\\site-packages (from ipython->jupyter-dash) (3.0.20)\n",
      "Requirement already satisfied: setuptools>=18.5 in c:\\users\\wellw\\anaconda3\\lib\\site-packages (from ipython->jupyter-dash) (63.4.1)\n",
      "Requirement already satisfied: decorator in c:\\users\\wellw\\anaconda3\\lib\\site-packages (from ipython->jupyter-dash) (5.1.1)\n",
      "Requirement already satisfied: pygments in c:\\users\\wellw\\anaconda3\\lib\\site-packages (from ipython->jupyter-dash) (2.11.2)\n",
      "Requirement already satisfied: colorama in c:\\users\\wellw\\anaconda3\\lib\\site-packages (from ipython->jupyter-dash) (0.4.5)\n",
      "Requirement already satisfied: certifi>=2017.4.17 in c:\\users\\wellw\\anaconda3\\lib\\site-packages (from requests->jupyter-dash) (2022.9.14)\n",
      "Requirement already satisfied: urllib3<1.27,>=1.21.1 in c:\\users\\wellw\\anaconda3\\lib\\site-packages (from requests->jupyter-dash) (1.26.11)\n",
      "Requirement already satisfied: charset-normalizer<3,>=2 in c:\\users\\wellw\\anaconda3\\lib\\site-packages (from requests->jupyter-dash) (2.0.4)\n",
      "Requirement already satisfied: idna<4,>=2.5 in c:\\users\\wellw\\anaconda3\\lib\\site-packages (from requests->jupyter-dash) (3.3)\n",
      "Requirement already satisfied: six>=1.7.0 in c:\\users\\wellw\\anaconda3\\lib\\site-packages (from retrying->jupyter-dash) (1.16.0)\n",
      "Requirement already satisfied: parso<0.9.0,>=0.8.0 in c:\\users\\wellw\\anaconda3\\lib\\site-packages (from jedi>=0.16->ipython->jupyter-dash) (0.8.3)\n",
      "Requirement already satisfied: MarkupSafe>=0.23 in c:\\users\\wellw\\anaconda3\\lib\\site-packages (from Jinja2>=2.10.1->flask->jupyter-dash) (2.0.1)\n",
      "Requirement already satisfied: python-dateutil>=2.8.2 in c:\\users\\wellw\\anaconda3\\lib\\site-packages (from jupyter-client>=6.1.12->ipykernel->jupyter-dash) (2.8.2)\n",
      "Requirement already satisfied: jupyter-core>=4.9.2 in c:\\users\\wellw\\anaconda3\\lib\\site-packages (from jupyter-client>=6.1.12->ipykernel->jupyter-dash) (4.11.1)\n",
      "Requirement already satisfied: entrypoints in c:\\users\\wellw\\anaconda3\\lib\\site-packages (from jupyter-client>=6.1.12->ipykernel->jupyter-dash) (0.4)\n",
      "Requirement already satisfied: tenacity>=6.2.0 in c:\\users\\wellw\\anaconda3\\lib\\site-packages (from plotly>=5.0.0->dash->jupyter-dash) (8.0.1)\n",
      "Requirement already satisfied: wcwidth in c:\\users\\wellw\\anaconda3\\lib\\site-packages (from prompt-toolkit!=3.0.0,!=3.0.1,<3.1.0,>=2.0.0->ipython->jupyter-dash) (0.2.5)\n",
      "Requirement already satisfied: pyparsing!=3.0.5,>=2.0.2 in c:\\users\\wellw\\anaconda3\\lib\\site-packages (from packaging->ipykernel->jupyter-dash) (3.0.9)\n",
      "Requirement already satisfied: pywin32>=1.0 in c:\\users\\wellw\\anaconda3\\lib\\site-packages (from jupyter-core>=4.9.2->jupyter-client>=6.1.12->ipykernel->jupyter-dash) (302)\n",
      "Note: you may need to restart the kernel to use updated packages.\n"
     ]
    }
   ],
   "source": [
    "pip install jupyter-dash"
   ]
  },
  {
   "cell_type": "code",
   "execution_count": null,
   "id": "002ebb13",
   "metadata": {},
   "outputs": [
    {
     "name": "stdout",
     "output_type": "stream",
     "text": [
      "Dash is running on http://127.0.0.1:8050/\n",
      "\n",
      " * Serving Flask app \"__main__\" (lazy loading)\n",
      " * Environment: production\n",
      "\u001b[31m   WARNING: This is a development server. Do not use it in a production deployment.\u001b[0m\n",
      "\u001b[2m   Use a production WSGI server instead.\u001b[0m\n",
      " * Debug mode: off\n"
     ]
    },
    {
     "name": "stderr",
     "output_type": "stream",
     "text": [
      " * Running on http://127.0.0.1:8050/ (Press CTRL+C to quit)\n",
      "127.0.0.1 - - [12/Apr/2023 15:45:16] \"GET / HTTP/1.1\" 200 -\n",
      "127.0.0.1 - - [12/Apr/2023 15:45:17] \"GET /_dash-layout HTTP/1.1\" 200 -\n",
      "127.0.0.1 - - [12/Apr/2023 15:45:17] \"GET /_dash-dependencies HTTP/1.1\" 200 -\n",
      "127.0.0.1 - - [12/Apr/2023 15:45:17] \"GET /_dash-component-suites/dash/dcc/async-graph.js HTTP/1.1\" 200 -\n",
      "127.0.0.1 - - [12/Apr/2023 15:45:17] \"GET /_dash-component-suites/dash/dcc/async-plotlyjs.js HTTP/1.1\" 200 -\n"
     ]
    }
   ],
   "source": [
    "from dash import Dash, html, dcc\n",
    "import plotly.express as px\n",
    "import pandas as pd\n",
    "\n",
    "app = Dash(__name__)\n",
    "\n",
    "# assume you have a \"long-form\" data frame\n",
    "# see https://plotly.com/python/px-arguments/ for more options\n",
    "\n",
    "#base de dados = DataFrame\n",
    "df = pd.DataFrame({\n",
    "    \"Fruit\": [\"Apples\", \"Oranges\", \"Bananas\", \"Apples\", \"Oranges\", \"Bananas\"],\n",
    "    \"Amount\": [4, 1, 2, 2, 4, 5],\n",
    "    \"City\": [\"SF\", \"SF\", \"SF\", \"Montreal\", \"Montreal\", \"Montreal\"]\n",
    "})\n",
    "\n",
    "##criando o gráfico\n",
    "\n",
    "fig = px.bar(df, x=\"Fruit\", y=\"Amount\", color=\"City\", barmode=\"group\")\n",
    "\n",
    "app.layout = html.Div(children=[\n",
    "    html.H1(children='Faturamento das Lojas'),\n",
    "    html.H2(children='Gráfico com o Faturamento de Todos os Produtos Separados por Loja.'),\n",
    "\n",
    "    html.Div(children='''\n",
    "        Obs.: Esse gráfico mostra a quantidade de todos os itens vendidos, não o faturamento.\n",
    "    '''),\n",
    "\n",
    "    dcc.Graph(\n",
    "        id='example-graph',\n",
    "        figure=fig\n",
    "    )\n",
    "])\n",
    "\n",
    "if __name__ == '__main__':\n",
    "    app.run_server(debug=False)"
   ]
  },
  {
   "cell_type": "code",
   "execution_count": null,
   "id": "b6d716ac",
   "metadata": {},
   "outputs": [],
   "source": []
  }
 ],
 "metadata": {
  "kernelspec": {
   "display_name": "Python 3 (ipykernel)",
   "language": "python",
   "name": "python3"
  },
  "language_info": {
   "codemirror_mode": {
    "name": "ipython",
    "version": 3
   },
   "file_extension": ".py",
   "mimetype": "text/x-python",
   "name": "python",
   "nbconvert_exporter": "python",
   "pygments_lexer": "ipython3",
   "version": "3.9.13"
  }
 },
 "nbformat": 4,
 "nbformat_minor": 5
}
